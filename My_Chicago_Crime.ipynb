{
  "nbformat": 4,
  "nbformat_minor": 0,
  "metadata": {
    "kernelspec": {
      "display_name": "Python 3",
      "language": "python",
      "name": "python3"
    },
    "language_info": {
      "codemirror_mode": {
        "name": "ipython",
        "version": 3
      },
      "file_extension": ".py",
      "mimetype": "text/x-python",
      "name": "python",
      "nbconvert_exporter": "python",
      "pygments_lexer": "ipython3",
      "version": "3.7.7"
    },
    "colab": {
      "name": "My_Chicago_Crime.ipynb",
      "provenance": [],
      "collapsed_sections": [
        "U-RefzhSGD45",
        "q06YtexDGD45",
        "7XWd_664GD47",
        "H2ZhwTFGGD47",
        "X5R9J2ELGD49"
      ],
      "toc_visible": true
    }
  },
  "cells": [
    {
      "cell_type": "code",
      "metadata": {
        "id": "jGT6RG6QGD40"
      },
      "source": [
        "import numpy as np\n",
        "import pandas as pd\n",
        "import seaborn as sns\n",
        "import matplotlib.pyplot as plt\n",
        "from fbprophet import Prophet"
      ],
      "execution_count": 1,
      "outputs": []
    },
    {
      "cell_type": "code",
      "metadata": {
        "id": "gbmeRZYhGD41"
      },
      "source": [
        "%matplotlib inline"
      ],
      "execution_count": 2,
      "outputs": []
    },
    {
      "cell_type": "code",
      "metadata": {
        "colab": {
          "base_uri": "https://localhost:8080/"
        },
        "id": "229QlvnUGjlp",
        "outputId": "e78125f4-dc69-4d92-a65f-e8cdd9204b7c"
      },
      "source": [
        "from google.colab import drive\n",
        "drive.mount('/content/drive')"
      ],
      "execution_count": 3,
      "outputs": [
        {
          "output_type": "stream",
          "text": [
            "Drive already mounted at /content/drive; to attempt to forcibly remount, call drive.mount(\"/content/drive\", force_remount=True).\n"
          ],
          "name": "stdout"
        }
      ]
    },
    {
      "cell_type": "code",
      "metadata": {
        "id": "YfY6G1-oGD41"
      },
      "source": [
        "chicago_crime1 =pd.read_csv('/content/drive/MyDrive/Chicago_Crimes_2001.csv', error_bad_lines =False, low_memory=False)\n"
      ],
      "execution_count": 4,
      "outputs": []
    },
    {
      "cell_type": "code",
      "metadata": {
        "id": "v_5RO7bqJcDv"
      },
      "source": [
        "chicago_crime2 =pd.read_csv('/content/drive/MyDrive/Chicago_Crimes_2005.csv', error_bad_lines =False, low_memory=False)"
      ],
      "execution_count": 5,
      "outputs": []
    },
    {
      "cell_type": "code",
      "metadata": {
        "id": "RiGpEP4KJcjB"
      },
      "source": [
        "chicago_crime3 =pd.read_csv('/content/drive/MyDrive/Chicago_Crimes_2008.csv', error_bad_lines =False, low_memory=False)"
      ],
      "execution_count": 6,
      "outputs": []
    },
    {
      "cell_type": "code",
      "metadata": {
        "id": "5WHNJ74iJfez"
      },
      "source": [
        "chicago_crime4 =pd.read_csv('/content/drive/MyDrive/Chicago_Crimes_2012.csv', error_bad_lines =False, low_memory=False)"
      ],
      "execution_count": 7,
      "outputs": []
    },
    {
      "cell_type": "code",
      "metadata": {
        "id": "dm9FjqvDIgN2"
      },
      "source": [
        "chicago_crime =pd.concat([chicago_crime1, chicago_crime2,chicago_crime3,chicago_crime4])"
      ],
      "execution_count": 8,
      "outputs": []
    },
    {
      "cell_type": "code",
      "metadata": {
        "colab": {
          "base_uri": "https://localhost:8080/"
        },
        "id": "DJBFNtZTGD41",
        "outputId": "0cb66867-c5bb-45fd-8447-641b4f975121"
      },
      "source": [
        "chicago_crime.shape"
      ],
      "execution_count": 9,
      "outputs": [
        {
          "output_type": "execute_result",
          "data": {
            "text/plain": [
              "(1887407, 23)"
            ]
          },
          "metadata": {
            "tags": []
          },
          "execution_count": 9
        }
      ]
    },
    {
      "cell_type": "code",
      "metadata": {
        "colab": {
          "base_uri": "https://localhost:8080/",
          "height": 251
        },
        "id": "vB9i52EZGD43",
        "outputId": "cf82c646-f4c7-4193-d679-ff1e856a4338"
      },
      "source": [
        "chicago_crime.head(2)"
      ],
      "execution_count": 10,
      "outputs": [
        {
          "output_type": "execute_result",
          "data": {
            "text/html": [
              "<div>\n",
              "<style scoped>\n",
              "    .dataframe tbody tr th:only-of-type {\n",
              "        vertical-align: middle;\n",
              "    }\n",
              "\n",
              "    .dataframe tbody tr th {\n",
              "        vertical-align: top;\n",
              "    }\n",
              "\n",
              "    .dataframe thead th {\n",
              "        text-align: right;\n",
              "    }\n",
              "</style>\n",
              "<table border=\"1\" class=\"dataframe\">\n",
              "  <thead>\n",
              "    <tr style=\"text-align: right;\">\n",
              "      <th></th>\n",
              "      <th>Unnamed: 0</th>\n",
              "      <th>ID</th>\n",
              "      <th>Case Number</th>\n",
              "      <th>Date</th>\n",
              "      <th>Block</th>\n",
              "      <th>IUCR</th>\n",
              "      <th>Primary Type</th>\n",
              "      <th>Description</th>\n",
              "      <th>Location Description</th>\n",
              "      <th>Arrest</th>\n",
              "      <th>Domestic</th>\n",
              "      <th>Beat</th>\n",
              "      <th>District</th>\n",
              "      <th>Ward</th>\n",
              "      <th>Community Area</th>\n",
              "      <th>FBI Code</th>\n",
              "      <th>X Coordinate</th>\n",
              "      <th>Y Coordinate</th>\n",
              "      <th>Year</th>\n",
              "      <th>Updated On</th>\n",
              "      <th>Latitude</th>\n",
              "      <th>Longitude</th>\n",
              "      <th>Location</th>\n",
              "    </tr>\n",
              "  </thead>\n",
              "  <tbody>\n",
              "    <tr>\n",
              "      <th>0</th>\n",
              "      <td>879</td>\n",
              "      <td>4786321</td>\n",
              "      <td>HM399414</td>\n",
              "      <td>01/01/2004 12:01:00 AM</td>\n",
              "      <td>082XX S COLES AVE</td>\n",
              "      <td>0840</td>\n",
              "      <td>THEFT</td>\n",
              "      <td>FINANCIAL ID THEFT: OVER $300</td>\n",
              "      <td>RESIDENCE</td>\n",
              "      <td>False</td>\n",
              "      <td>False</td>\n",
              "      <td>424.0</td>\n",
              "      <td>4.0</td>\n",
              "      <td>7.0</td>\n",
              "      <td>46.0</td>\n",
              "      <td>06</td>\n",
              "      <td>NaN</td>\n",
              "      <td>NaN</td>\n",
              "      <td>2004.0</td>\n",
              "      <td>08/17/2015 03:03:40 PM</td>\n",
              "      <td>NaN</td>\n",
              "      <td>NaN</td>\n",
              "      <td>NaN</td>\n",
              "    </tr>\n",
              "    <tr>\n",
              "      <th>1</th>\n",
              "      <td>2544</td>\n",
              "      <td>4676906</td>\n",
              "      <td>HM278933</td>\n",
              "      <td>03/01/2003 12:00:00 AM</td>\n",
              "      <td>004XX W 42ND PL</td>\n",
              "      <td>2825</td>\n",
              "      <td>OTHER OFFENSE</td>\n",
              "      <td>HARASSMENT BY TELEPHONE</td>\n",
              "      <td>RESIDENCE</td>\n",
              "      <td>False</td>\n",
              "      <td>True</td>\n",
              "      <td>935.0</td>\n",
              "      <td>9.0</td>\n",
              "      <td>11.0</td>\n",
              "      <td>61.0</td>\n",
              "      <td>26</td>\n",
              "      <td>1173974.0</td>\n",
              "      <td>1876757.0</td>\n",
              "      <td>2003.0</td>\n",
              "      <td>04/15/2016 08:55:02 AM</td>\n",
              "      <td>41.817229</td>\n",
              "      <td>-87.637328</td>\n",
              "      <td>(41.817229156, -87.637328162)</td>\n",
              "    </tr>\n",
              "  </tbody>\n",
              "</table>\n",
              "</div>"
            ],
            "text/plain": [
              "   Unnamed: 0       ID  ...  Longitude                       Location\n",
              "0         879  4786321  ...        NaN                            NaN\n",
              "1        2544  4676906  ... -87.637328  (41.817229156, -87.637328162)\n",
              "\n",
              "[2 rows x 23 columns]"
            ]
          },
          "metadata": {
            "tags": []
          },
          "execution_count": 10
        }
      ]
    },
    {
      "cell_type": "code",
      "metadata": {
        "colab": {
          "base_uri": "https://localhost:8080/"
        },
        "id": "bMrRVLFXGD43",
        "outputId": "9199ba47-03e2-4c45-87c3-1ba0a902e586"
      },
      "source": [
        "chicago_crime.isnull().sum()"
      ],
      "execution_count": 11,
      "outputs": [
        {
          "output_type": "execute_result",
          "data": {
            "text/plain": [
              "Unnamed: 0                   0\n",
              "ID                           0\n",
              "Case Number                  0\n",
              "Date                         1\n",
              "Block                        1\n",
              "IUCR                         1\n",
              "Primary Type                 1\n",
              "Description                  1\n",
              "Location Description       478\n",
              "Arrest                       2\n",
              "Domestic                     2\n",
              "Beat                         2\n",
              "District                    44\n",
              "Ward                    402191\n",
              "Community Area          402601\n",
              "FBI Code                     2\n",
              "X Coordinate             31547\n",
              "Y Coordinate             31547\n",
              "Year                         3\n",
              "Updated On                   3\n",
              "Latitude                 31549\n",
              "Longitude                31549\n",
              "Location                 31549\n",
              "dtype: int64"
            ]
          },
          "metadata": {
            "tags": []
          },
          "execution_count": 11
        }
      ]
    },
    {
      "cell_type": "code",
      "metadata": {
        "colab": {
          "base_uri": "https://localhost:8080/"
        },
        "id": "PDPcANTEGD43",
        "outputId": "a02ccaa0-25a9-4422-b425-7e21e3cad910"
      },
      "source": [
        "chicago_crime.info()"
      ],
      "execution_count": 12,
      "outputs": [
        {
          "output_type": "stream",
          "text": [
            "<class 'pandas.core.frame.DataFrame'>\n",
            "Int64Index: 1887407 entries, 0 to 548600\n",
            "Data columns (total 23 columns):\n",
            " #   Column                Dtype  \n",
            "---  ------                -----  \n",
            " 0   Unnamed: 0            int64  \n",
            " 1   ID                    int64  \n",
            " 2   Case Number           object \n",
            " 3   Date                  object \n",
            " 4   Block                 object \n",
            " 5   IUCR                  object \n",
            " 6   Primary Type          object \n",
            " 7   Description           object \n",
            " 8   Location Description  object \n",
            " 9   Arrest                object \n",
            " 10  Domestic              object \n",
            " 11  Beat                  float64\n",
            " 12  District              float64\n",
            " 13  Ward                  float64\n",
            " 14  Community Area        float64\n",
            " 15  FBI Code              object \n",
            " 16  X Coordinate          float64\n",
            " 17  Y Coordinate          float64\n",
            " 18  Year                  float64\n",
            " 19  Updated On            object \n",
            " 20  Latitude              float64\n",
            " 21  Longitude             float64\n",
            " 22  Location              object \n",
            "dtypes: float64(9), int64(2), object(12)\n",
            "memory usage: 345.6+ MB\n"
          ],
          "name": "stdout"
        }
      ]
    },
    {
      "cell_type": "code",
      "metadata": {
        "colab": {
          "base_uri": "https://localhost:8080/",
          "height": 331
        },
        "id": "6_5h0IvMGD44",
        "outputId": "005f35a6-2d66-4a14-f88c-8cc1fdd50400"
      },
      "source": [
        "chicago_crime.describe()"
      ],
      "execution_count": 13,
      "outputs": [
        {
          "output_type": "execute_result",
          "data": {
            "text/html": [
              "<div>\n",
              "<style scoped>\n",
              "    .dataframe tbody tr th:only-of-type {\n",
              "        vertical-align: middle;\n",
              "    }\n",
              "\n",
              "    .dataframe tbody tr th {\n",
              "        vertical-align: top;\n",
              "    }\n",
              "\n",
              "    .dataframe thead th {\n",
              "        text-align: right;\n",
              "    }\n",
              "</style>\n",
              "<table border=\"1\" class=\"dataframe\">\n",
              "  <thead>\n",
              "    <tr style=\"text-align: right;\">\n",
              "      <th></th>\n",
              "      <th>Unnamed: 0</th>\n",
              "      <th>ID</th>\n",
              "      <th>Beat</th>\n",
              "      <th>District</th>\n",
              "      <th>Ward</th>\n",
              "      <th>Community Area</th>\n",
              "      <th>X Coordinate</th>\n",
              "      <th>Y Coordinate</th>\n",
              "      <th>Year</th>\n",
              "      <th>Latitude</th>\n",
              "      <th>Longitude</th>\n",
              "    </tr>\n",
              "  </thead>\n",
              "  <tbody>\n",
              "    <tr>\n",
              "      <th>count</th>\n",
              "      <td>1.887407e+06</td>\n",
              "      <td>1.887407e+06</td>\n",
              "      <td>1.887405e+06</td>\n",
              "      <td>1.887363e+06</td>\n",
              "      <td>1.485216e+06</td>\n",
              "      <td>1.484806e+06</td>\n",
              "      <td>1.855860e+06</td>\n",
              "      <td>1.855860e+06</td>\n",
              "      <td>1.887404e+06</td>\n",
              "      <td>1.855858e+06</td>\n",
              "      <td>1.855858e+06</td>\n",
              "    </tr>\n",
              "    <tr>\n",
              "      <th>mean</th>\n",
              "      <td>1.863695e+06</td>\n",
              "      <td>5.850047e+06</td>\n",
              "      <td>1.193685e+03</td>\n",
              "      <td>1.129817e+01</td>\n",
              "      <td>2.265705e+01</td>\n",
              "      <td>3.784834e+01</td>\n",
              "      <td>1.164482e+06</td>\n",
              "      <td>1.885631e+06</td>\n",
              "      <td>2.007543e+03</td>\n",
              "      <td>4.184177e+01</td>\n",
              "      <td>-8.767193e+01</td>\n",
              "    </tr>\n",
              "    <tr>\n",
              "      <th>std</th>\n",
              "      <td>1.299607e+06</td>\n",
              "      <td>2.677770e+06</td>\n",
              "      <td>7.032164e+02</td>\n",
              "      <td>6.943250e+00</td>\n",
              "      <td>1.376230e+01</td>\n",
              "      <td>2.159353e+01</td>\n",
              "      <td>1.763080e+04</td>\n",
              "      <td>3.334244e+04</td>\n",
              "      <td>4.229354e+00</td>\n",
              "      <td>9.177054e-02</td>\n",
              "      <td>6.366779e-02</td>\n",
              "    </tr>\n",
              "    <tr>\n",
              "      <th>min</th>\n",
              "      <td>0.000000e+00</td>\n",
              "      <td>6.340000e+02</td>\n",
              "      <td>1.110000e+02</td>\n",
              "      <td>1.000000e+00</td>\n",
              "      <td>1.000000e+00</td>\n",
              "      <td>0.000000e+00</td>\n",
              "      <td>0.000000e+00</td>\n",
              "      <td>0.000000e+00</td>\n",
              "      <td>2.001000e+03</td>\n",
              "      <td>3.661945e+01</td>\n",
              "      <td>-9.168657e+01</td>\n",
              "    </tr>\n",
              "    <tr>\n",
              "      <th>25%</th>\n",
              "      <td>8.779055e+05</td>\n",
              "      <td>4.774356e+06</td>\n",
              "      <td>6.220000e+02</td>\n",
              "      <td>6.000000e+00</td>\n",
              "      <td>1.000000e+01</td>\n",
              "      <td>2.300000e+01</td>\n",
              "      <td>1.152898e+06</td>\n",
              "      <td>1.859073e+06</td>\n",
              "      <td>2.006000e+03</td>\n",
              "      <td>4.176871e+01</td>\n",
              "      <td>-8.771396e+01</td>\n",
              "    </tr>\n",
              "    <tr>\n",
              "      <th>50%</th>\n",
              "      <td>1.349917e+06</td>\n",
              "      <td>6.267769e+06</td>\n",
              "      <td>1.034000e+03</td>\n",
              "      <td>1.000000e+01</td>\n",
              "      <td>2.200000e+01</td>\n",
              "      <td>3.200000e+01</td>\n",
              "      <td>1.165948e+06</td>\n",
              "      <td>1.890045e+06</td>\n",
              "      <td>2.008000e+03</td>\n",
              "      <td>4.185385e+01</td>\n",
              "      <td>-8.766628e+01</td>\n",
              "    </tr>\n",
              "    <tr>\n",
              "      <th>75%</th>\n",
              "      <td>2.811456e+06</td>\n",
              "      <td>8.552642e+06</td>\n",
              "      <td>1.731000e+03</td>\n",
              "      <td>1.700000e+01</td>\n",
              "      <td>3.400000e+01</td>\n",
              "      <td>5.800000e+01</td>\n",
              "      <td>1.176352e+06</td>\n",
              "      <td>1.909431e+06</td>\n",
              "      <td>2.012000e+03</td>\n",
              "      <td>4.190715e+01</td>\n",
              "      <td>-8.762844e+01</td>\n",
              "    </tr>\n",
              "    <tr>\n",
              "      <th>max</th>\n",
              "      <td>3.947277e+06</td>\n",
              "      <td>1.055040e+07</td>\n",
              "      <td>2.535000e+03</td>\n",
              "      <td>3.100000e+01</td>\n",
              "      <td>5.000000e+01</td>\n",
              "      <td>7.700000e+01</td>\n",
              "      <td>1.205119e+06</td>\n",
              "      <td>1.951610e+06</td>\n",
              "      <td>2.016000e+03</td>\n",
              "      <td>4.202288e+01</td>\n",
              "      <td>-8.752453e+01</td>\n",
              "    </tr>\n",
              "  </tbody>\n",
              "</table>\n",
              "</div>"
            ],
            "text/plain": [
              "         Unnamed: 0            ID  ...      Latitude     Longitude\n",
              "count  1.887407e+06  1.887407e+06  ...  1.855858e+06  1.855858e+06\n",
              "mean   1.863695e+06  5.850047e+06  ...  4.184177e+01 -8.767193e+01\n",
              "std    1.299607e+06  2.677770e+06  ...  9.177054e-02  6.366779e-02\n",
              "min    0.000000e+00  6.340000e+02  ...  3.661945e+01 -9.168657e+01\n",
              "25%    8.779055e+05  4.774356e+06  ...  4.176871e+01 -8.771396e+01\n",
              "50%    1.349917e+06  6.267769e+06  ...  4.185385e+01 -8.766628e+01\n",
              "75%    2.811456e+06  8.552642e+06  ...  4.190715e+01 -8.762844e+01\n",
              "max    3.947277e+06  1.055040e+07  ...  4.202288e+01 -8.752453e+01\n",
              "\n",
              "[8 rows x 11 columns]"
            ]
          },
          "metadata": {
            "tags": []
          },
          "execution_count": 13
        }
      ]
    },
    {
      "cell_type": "code",
      "metadata": {
        "colab": {
          "base_uri": "https://localhost:8080/",
          "height": 361
        },
        "id": "48NZLoUuGD44",
        "outputId": "29c855e2-7a3e-44d1-b877-3db7809cc949"
      },
      "source": [
        "sns.heatmap(chicago_crime.corr())"
      ],
      "execution_count": 14,
      "outputs": [
        {
          "output_type": "execute_result",
          "data": {
            "text/plain": [
              "<matplotlib.axes._subplots.AxesSubplot at 0x7fcb851f85f8>"
            ]
          },
          "metadata": {
            "tags": []
          },
          "execution_count": 14
        },
        {
          "output_type": "display_data",
          "data": {
            "image/png": "[encoded data removed]",
            "text/plain": [
              "<Figure size 432x288 with 2 Axes>"
            ]
          },
          "metadata": {
            "tags": [],
            "needs_background": "light"
          }
        }
      ]
    },
    {
      "cell_type": "code",
      "metadata": {
        "colab": {
          "base_uri": "https://localhost:8080/",
          "height": 379
        },
        "id": "OLpUvv-ZGD44",
        "outputId": "ae1c0840-9250-420f-9f41-a064bb75eff1"
      },
      "source": [
        "sns.heatmap(chicago_crime.isnull())"
      ],
      "execution_count": 15,
      "outputs": [
        {
          "output_type": "execute_result",
          "data": {
            "text/plain": [
              "<matplotlib.axes._subplots.AxesSubplot at 0x7fcb828c75f8>"
            ]
          },
          "metadata": {
            "tags": []
          },
          "execution_count": 15
        },
        {
          "output_type": "display_data",
          "data": {
            "image/png": "[encoded data removed]",
            "text/plain": [
              "<Figure size 432x288 with 2 Axes>"
            ]
          },
          "metadata": {
            "tags": [],
            "needs_background": "light"
          }
        }
      ]
    },
    {
      "cell_type": "code",
      "metadata": {
        "colab": {
          "base_uri": "https://localhost:8080/",
          "height": 307
        },
        "id": "2E4tu_CRGD44",
        "outputId": "7576ea00-5fd8-43d3-f873-e62086f71b05"
      },
      "source": [
        "sns.countplot(x='Domestic', data=chicago_crime)"
      ],
      "execution_count": 16,
      "outputs": [
        {
          "output_type": "execute_result",
          "data": {
            "text/plain": [
              "<matplotlib.axes._subplots.AxesSubplot at 0x7fcb828c4048>"
            ]
          },
          "metadata": {
            "tags": []
          },
          "execution_count": 16
        },
        {
          "output_type": "display_data",
          "data": {
            "image/png": "[encoded data removed]",
            "text/plain": [
              "<Figure size 432x288 with 1 Axes>"
            ]
          },
          "metadata": {
            "tags": [],
            "needs_background": "light"
          }
        }
      ]
    },
    {
      "cell_type": "code",
      "metadata": {
        "colab": {
          "base_uri": "https://localhost:8080/",
          "height": 307
        },
        "id": "rSP7QS0NGD44",
        "outputId": "cef00f4e-858c-45b2-dee5-a2cf2f0f179a"
      },
      "source": [
        "sns.countplot(x='Arrest', data=chicago_crime)"
      ],
      "execution_count": 17,
      "outputs": [
        {
          "output_type": "execute_result",
          "data": {
            "text/plain": [
              "<matplotlib.axes._subplots.AxesSubplot at 0x7fcb82381c18>"
            ]
          },
          "metadata": {
            "tags": []
          },
          "execution_count": 17
        },
        {
          "output_type": "display_data",
          "data": {
            "image/png": "[encoded data removed]",
            "text/plain": [
              "<Figure size 432x288 with 1 Axes>"
            ]
          },
          "metadata": {
            "tags": [],
            "needs_background": "light"
          }
        }
      ]
    },
    {
      "cell_type": "code",
      "metadata": {
        "colab": {
          "base_uri": "https://localhost:8080/"
        },
        "id": "QECNGg5KGD44",
        "outputId": "f49c80b8-b72d-4be6-af79-c8754009cd44"
      },
      "source": [
        "chicago_crime['Location Description'].nunique(dropna=True)"
      ],
      "execution_count": 18,
      "outputs": [
        {
          "output_type": "execute_result",
          "data": {
            "text/plain": [
              "150"
            ]
          },
          "metadata": {
            "tags": []
          },
          "execution_count": 18
        }
      ]
    },
    {
      "cell_type": "code",
      "metadata": {
        "id": "3pUWqhMrGD44"
      },
      "source": [
        "df=chicago_crime.drop(['Unnamed: 0','ID','FBI Code','IUCR','X Coordinate','Y Coordinate','Updated On','Case Number','District','Latitude','Longitude','Beat',\n",
        "                      'Community Area','Ward','Year','Location'],axis=1)"
      ],
      "execution_count": 19,
      "outputs": []
    },
    {
      "cell_type": "code",
      "metadata": {
        "colab": {
          "base_uri": "https://localhost:8080/",
          "height": 546
        },
        "id": "9EtgDea6GD44",
        "outputId": "65fc3c2f-6939-4257-8f9f-7868ecc8591d"
      },
      "source": [
        "df.tail(10)"
      ],
      "execution_count": 20,
      "outputs": [
        {
          "output_type": "execute_result",
          "data": {
            "text/html": [
              "<div>\n",
              "<style scoped>\n",
              "    .dataframe tbody tr th:only-of-type {\n",
              "        vertical-align: middle;\n",
              "    }\n",
              "\n",
              "    .dataframe tbody tr th {\n",
              "        vertical-align: top;\n",
              "    }\n",
              "\n",
              "    .dataframe thead th {\n",
              "        text-align: right;\n",
              "    }\n",
              "</style>\n",
              "<table border=\"1\" class=\"dataframe\">\n",
              "  <thead>\n",
              "    <tr style=\"text-align: right;\">\n",
              "      <th></th>\n",
              "      <th>Date</th>\n",
              "      <th>Block</th>\n",
              "      <th>Primary Type</th>\n",
              "      <th>Description</th>\n",
              "      <th>Location Description</th>\n",
              "      <th>Arrest</th>\n",
              "      <th>Domestic</th>\n",
              "    </tr>\n",
              "  </thead>\n",
              "  <tbody>\n",
              "    <tr>\n",
              "      <th>548591</th>\n",
              "      <td>06/19/2013 05:27:00 PM</td>\n",
              "      <td>028XX W 64TH ST</td>\n",
              "      <td>CRIMINAL TRESPASS</td>\n",
              "      <td>TO LAND</td>\n",
              "      <td>APARTMENT</td>\n",
              "      <td>False</td>\n",
              "      <td>False</td>\n",
              "    </tr>\n",
              "    <tr>\n",
              "      <th>548592</th>\n",
              "      <td>06/19/2013 01:30:00 PM</td>\n",
              "      <td>066XX S FAIRFIELD AVE</td>\n",
              "      <td>ASSAULT</td>\n",
              "      <td>AGGRAVATED: HANDGUN</td>\n",
              "      <td>SIDEWALK</td>\n",
              "      <td>False</td>\n",
              "      <td>False</td>\n",
              "    </tr>\n",
              "    <tr>\n",
              "      <th>548593</th>\n",
              "      <td>06/19/2013 01:35:00 PM</td>\n",
              "      <td>019XX E 75TH ST</td>\n",
              "      <td>CRIMINAL TRESPASS</td>\n",
              "      <td>TO LAND</td>\n",
              "      <td>SIDEWALK</td>\n",
              "      <td>False</td>\n",
              "      <td>False</td>\n",
              "    </tr>\n",
              "    <tr>\n",
              "      <th>548594</th>\n",
              "      <td>06/19/2013 06:00:00 PM</td>\n",
              "      <td>060XX S ELIZABETH ST</td>\n",
              "      <td>BATTERY</td>\n",
              "      <td>SIMPLE</td>\n",
              "      <td>SIDEWALK</td>\n",
              "      <td>True</td>\n",
              "      <td>False</td>\n",
              "    </tr>\n",
              "    <tr>\n",
              "      <th>548595</th>\n",
              "      <td>06/17/2013 08:00:00 AM</td>\n",
              "      <td>045XX W 56TH ST</td>\n",
              "      <td>ASSAULT</td>\n",
              "      <td>SIMPLE</td>\n",
              "      <td>RESIDENCE</td>\n",
              "      <td>False</td>\n",
              "      <td>True</td>\n",
              "    </tr>\n",
              "    <tr>\n",
              "      <th>548596</th>\n",
              "      <td>06/19/2013 11:45:00 AM</td>\n",
              "      <td>043XX W WABANSIA AVE</td>\n",
              "      <td>BATTERY</td>\n",
              "      <td>SIMPLE</td>\n",
              "      <td>SCHOOL, PUBLIC, BUILDING</td>\n",
              "      <td>False</td>\n",
              "      <td>False</td>\n",
              "    </tr>\n",
              "    <tr>\n",
              "      <th>548597</th>\n",
              "      <td>06/19/2013 03:31:00 PM</td>\n",
              "      <td>009XX N ST LOUIS AVE</td>\n",
              "      <td>BATTERY</td>\n",
              "      <td>SIMPLE</td>\n",
              "      <td>SIDEWALK</td>\n",
              "      <td>True</td>\n",
              "      <td>False</td>\n",
              "    </tr>\n",
              "    <tr>\n",
              "      <th>548598</th>\n",
              "      <td>06/19/2013 03:45:00 PM</td>\n",
              "      <td>015XX W MORSE AVE</td>\n",
              "      <td>BURGLARY</td>\n",
              "      <td>FORCIBLE ENTRY</td>\n",
              "      <td>APARTMENT</td>\n",
              "      <td>False</td>\n",
              "      <td>False</td>\n",
              "    </tr>\n",
              "    <tr>\n",
              "      <th>548599</th>\n",
              "      <td>06/19/2013 05:00:00 PM</td>\n",
              "      <td>062XX N TALMAN AVE</td>\n",
              "      <td>CRIMINAL DAMAGE</td>\n",
              "      <td>TO PROPERTY</td>\n",
              "      <td>ALLEY</td>\n",
              "      <td>False</td>\n",
              "      <td>False</td>\n",
              "    </tr>\n",
              "    <tr>\n",
              "      <th>548600</th>\n",
              "      <td>06/19/2013 03:24:00 PM</td>\n",
              "      <td>011XX W GRANVILLE AVE</td>\n",
              "      <td>THEFT</td>\n",
              "      <td>$500 AND UNDER</td>\n",
              "      <td>SMALL RETAIL STORE</td>\n",
              "      <td>False</td>\n",
              "      <td>False</td>\n",
              "    </tr>\n",
              "  </tbody>\n",
              "</table>\n",
              "</div>"
            ],
            "text/plain": [
              "                          Date                  Block  ... Arrest Domestic\n",
              "548591  06/19/2013 05:27:00 PM        028XX W 64TH ST  ...  False    False\n",
              "548592  06/19/2013 01:30:00 PM  066XX S FAIRFIELD AVE  ...  False    False\n",
              "548593  06/19/2013 01:35:00 PM        019XX E 75TH ST  ...  False    False\n",
              "548594  06/19/2013 06:00:00 PM   060XX S ELIZABETH ST  ...   True    False\n",
              "548595  06/17/2013 08:00:00 AM        045XX W 56TH ST  ...  False     True\n",
              "548596  06/19/2013 11:45:00 AM   043XX W WABANSIA AVE  ...  False    False\n",
              "548597  06/19/2013 03:31:00 PM   009XX N ST LOUIS AVE  ...   True    False\n",
              "548598  06/19/2013 03:45:00 PM      015XX W MORSE AVE  ...  False    False\n",
              "548599  06/19/2013 05:00:00 PM     062XX N TALMAN AVE  ...  False    False\n",
              "548600  06/19/2013 03:24:00 PM  011XX W GRANVILLE AVE  ...  False    False\n",
              "\n",
              "[10 rows x 7 columns]"
            ]
          },
          "metadata": {
            "tags": []
          },
          "execution_count": 20
        }
      ]
    },
    {
      "cell_type": "markdown",
      "metadata": {
        "id": "U-RefzhSGD45"
      },
      "source": [
        "## conversion of the date into a datetime format"
      ]
    },
    {
      "cell_type": "code",
      "metadata": {
        "id": "b7Danp_UGD45"
      },
      "source": [
        "df.Date =pd.to_datetime(df.Date, format ='%m/%d/%Y %I:%M:%S %p')"
      ],
      "execution_count": 21,
      "outputs": []
    },
    {
      "cell_type": "code",
      "metadata": {
        "id": "VPv0DmOiGD45"
      },
      "source": [
        "df.index =pd.DatetimeIndex(df.Date)"
      ],
      "execution_count": 22,
      "outputs": []
    },
    {
      "cell_type": "code",
      "metadata": {
        "colab": {
          "base_uri": "https://localhost:8080/"
        },
        "id": "4R5sUScBGD45",
        "outputId": "2045be37-4ccc-4b8f-c250-fead7cf00433"
      },
      "source": [
        "df['Date'].unique()"
      ],
      "execution_count": 23,
      "outputs": [
        {
          "output_type": "execute_result",
          "data": {
            "text/plain": [
              "array(['2004-01-01T00:01:00.000000000', '2003-03-01T00:00:00.000000000',\n",
              "       '2004-06-20T11:00:00.000000000', ...,\n",
              "       '2013-06-19T18:00:00.000000000', '2013-06-19T15:31:00.000000000',\n",
              "       '2013-06-19T15:24:00.000000000'], dtype='datetime64[ns]')"
            ]
          },
          "metadata": {
            "tags": []
          },
          "execution_count": 23
        }
      ]
    },
    {
      "cell_type": "code",
      "metadata": {
        "colab": {
          "base_uri": "https://localhost:8080/",
          "height": 354
        },
        "id": "mm8Y8RtkGD45",
        "outputId": "3f062a79-6f91-4389-e8a1-0ffbb022b682"
      },
      "source": [
        "df.head()"
      ],
      "execution_count": 24,
      "outputs": [
        {
          "output_type": "execute_result",
          "data": {
            "text/html": [
              "<div>\n",
              "<style scoped>\n",
              "    .dataframe tbody tr th:only-of-type {\n",
              "        vertical-align: middle;\n",
              "    }\n",
              "\n",
              "    .dataframe tbody tr th {\n",
              "        vertical-align: top;\n",
              "    }\n",
              "\n",
              "    .dataframe thead th {\n",
              "        text-align: right;\n",
              "    }\n",
              "</style>\n",
              "<table border=\"1\" class=\"dataframe\">\n",
              "  <thead>\n",
              "    <tr style=\"text-align: right;\">\n",
              "      <th></th>\n",
              "      <th>Date</th>\n",
              "      <th>Block</th>\n",
              "      <th>Primary Type</th>\n",
              "      <th>Description</th>\n",
              "      <th>Location Description</th>\n",
              "      <th>Arrest</th>\n",
              "      <th>Domestic</th>\n",
              "    </tr>\n",
              "    <tr>\n",
              "      <th>Date</th>\n",
              "      <th></th>\n",
              "      <th></th>\n",
              "      <th></th>\n",
              "      <th></th>\n",
              "      <th></th>\n",
              "      <th></th>\n",
              "      <th></th>\n",
              "    </tr>\n",
              "  </thead>\n",
              "  <tbody>\n",
              "    <tr>\n",
              "      <th>2004-01-01 00:01:00</th>\n",
              "      <td>2004-01-01 00:01:00</td>\n",
              "      <td>082XX S COLES AVE</td>\n",
              "      <td>THEFT</td>\n",
              "      <td>FINANCIAL ID THEFT: OVER $300</td>\n",
              "      <td>RESIDENCE</td>\n",
              "      <td>False</td>\n",
              "      <td>False</td>\n",
              "    </tr>\n",
              "    <tr>\n",
              "      <th>2003-03-01 00:00:00</th>\n",
              "      <td>2003-03-01 00:00:00</td>\n",
              "      <td>004XX W 42ND PL</td>\n",
              "      <td>OTHER OFFENSE</td>\n",
              "      <td>HARASSMENT BY TELEPHONE</td>\n",
              "      <td>RESIDENCE</td>\n",
              "      <td>False</td>\n",
              "      <td>True</td>\n",
              "    </tr>\n",
              "    <tr>\n",
              "      <th>2004-06-20 11:00:00</th>\n",
              "      <td>2004-06-20 11:00:00</td>\n",
              "      <td>025XX N KIMBALL AVE</td>\n",
              "      <td>OFFENSE INVOLVING CHILDREN</td>\n",
              "      <td>AGG CRIM SEX ABUSE FAM MEMBER</td>\n",
              "      <td>RESIDENCE</td>\n",
              "      <td>False</td>\n",
              "      <td>False</td>\n",
              "    </tr>\n",
              "    <tr>\n",
              "      <th>2004-12-30 20:00:00</th>\n",
              "      <td>2004-12-30 20:00:00</td>\n",
              "      <td>045XX W MONTANA ST</td>\n",
              "      <td>THEFT</td>\n",
              "      <td>FINANCIAL ID THEFT: OVER $300</td>\n",
              "      <td>OTHER</td>\n",
              "      <td>False</td>\n",
              "      <td>False</td>\n",
              "    </tr>\n",
              "    <tr>\n",
              "      <th>2003-05-01 01:00:00</th>\n",
              "      <td>2003-05-01 01:00:00</td>\n",
              "      <td>111XX S NORMAL AVE</td>\n",
              "      <td>THEFT</td>\n",
              "      <td>FINANCIAL ID THEFT:$300 &amp;UNDER</td>\n",
              "      <td>RESIDENCE</td>\n",
              "      <td>False</td>\n",
              "      <td>False</td>\n",
              "    </tr>\n",
              "  </tbody>\n",
              "</table>\n",
              "</div>"
            ],
            "text/plain": [
              "                                   Date                Block  ... Arrest Domestic\n",
              "Date                                                          ...                \n",
              "2004-01-01 00:01:00 2004-01-01 00:01:00    082XX S COLES AVE  ...  False    False\n",
              "2003-03-01 00:00:00 2003-03-01 00:00:00      004XX W 42ND PL  ...  False     True\n",
              "2004-06-20 11:00:00 2004-06-20 11:00:00  025XX N KIMBALL AVE  ...  False    False\n",
              "2004-12-30 20:00:00 2004-12-30 20:00:00   045XX W MONTANA ST  ...  False    False\n",
              "2003-05-01 01:00:00 2003-05-01 01:00:00   111XX S NORMAL AVE  ...  False    False\n",
              "\n",
              "[5 rows x 7 columns]"
            ]
          },
          "metadata": {
            "tags": []
          },
          "execution_count": 24
        }
      ]
    },
    {
      "cell_type": "code",
      "metadata": {
        "colab": {
          "base_uri": "https://localhost:8080/",
          "height": 337
        },
        "id": "EuxFHJUMGD45",
        "outputId": "093cf000-9727-480a-b33a-a0c61ae1dfb6"
      },
      "source": [
        "df.tail()"
      ],
      "execution_count": 25,
      "outputs": [
        {
          "output_type": "execute_result",
          "data": {
            "text/html": [
              "<div>\n",
              "<style scoped>\n",
              "    .dataframe tbody tr th:only-of-type {\n",
              "        vertical-align: middle;\n",
              "    }\n",
              "\n",
              "    .dataframe tbody tr th {\n",
              "        vertical-align: top;\n",
              "    }\n",
              "\n",
              "    .dataframe thead th {\n",
              "        text-align: right;\n",
              "    }\n",
              "</style>\n",
              "<table border=\"1\" class=\"dataframe\">\n",
              "  <thead>\n",
              "    <tr style=\"text-align: right;\">\n",
              "      <th></th>\n",
              "      <th>Date</th>\n",
              "      <th>Block</th>\n",
              "      <th>Primary Type</th>\n",
              "      <th>Description</th>\n",
              "      <th>Location Description</th>\n",
              "      <th>Arrest</th>\n",
              "      <th>Domestic</th>\n",
              "    </tr>\n",
              "    <tr>\n",
              "      <th>Date</th>\n",
              "      <th></th>\n",
              "      <th></th>\n",
              "      <th></th>\n",
              "      <th></th>\n",
              "      <th></th>\n",
              "      <th></th>\n",
              "      <th></th>\n",
              "    </tr>\n",
              "  </thead>\n",
              "  <tbody>\n",
              "    <tr>\n",
              "      <th>2013-06-19 11:45:00</th>\n",
              "      <td>2013-06-19 11:45:00</td>\n",
              "      <td>043XX W WABANSIA AVE</td>\n",
              "      <td>BATTERY</td>\n",
              "      <td>SIMPLE</td>\n",
              "      <td>SCHOOL, PUBLIC, BUILDING</td>\n",
              "      <td>False</td>\n",
              "      <td>False</td>\n",
              "    </tr>\n",
              "    <tr>\n",
              "      <th>2013-06-19 15:31:00</th>\n",
              "      <td>2013-06-19 15:31:00</td>\n",
              "      <td>009XX N ST LOUIS AVE</td>\n",
              "      <td>BATTERY</td>\n",
              "      <td>SIMPLE</td>\n",
              "      <td>SIDEWALK</td>\n",
              "      <td>True</td>\n",
              "      <td>False</td>\n",
              "    </tr>\n",
              "    <tr>\n",
              "      <th>2013-06-19 15:45:00</th>\n",
              "      <td>2013-06-19 15:45:00</td>\n",
              "      <td>015XX W MORSE AVE</td>\n",
              "      <td>BURGLARY</td>\n",
              "      <td>FORCIBLE ENTRY</td>\n",
              "      <td>APARTMENT</td>\n",
              "      <td>False</td>\n",
              "      <td>False</td>\n",
              "    </tr>\n",
              "    <tr>\n",
              "      <th>2013-06-19 17:00:00</th>\n",
              "      <td>2013-06-19 17:00:00</td>\n",
              "      <td>062XX N TALMAN AVE</td>\n",
              "      <td>CRIMINAL DAMAGE</td>\n",
              "      <td>TO PROPERTY</td>\n",
              "      <td>ALLEY</td>\n",
              "      <td>False</td>\n",
              "      <td>False</td>\n",
              "    </tr>\n",
              "    <tr>\n",
              "      <th>2013-06-19 15:24:00</th>\n",
              "      <td>2013-06-19 15:24:00</td>\n",
              "      <td>011XX W GRANVILLE AVE</td>\n",
              "      <td>THEFT</td>\n",
              "      <td>$500 AND UNDER</td>\n",
              "      <td>SMALL RETAIL STORE</td>\n",
              "      <td>False</td>\n",
              "      <td>False</td>\n",
              "    </tr>\n",
              "  </tbody>\n",
              "</table>\n",
              "</div>"
            ],
            "text/plain": [
              "                                   Date                  Block  ... Arrest Domestic\n",
              "Date                                                            ...                \n",
              "2013-06-19 11:45:00 2013-06-19 11:45:00   043XX W WABANSIA AVE  ...  False    False\n",
              "2013-06-19 15:31:00 2013-06-19 15:31:00   009XX N ST LOUIS AVE  ...   True    False\n",
              "2013-06-19 15:45:00 2013-06-19 15:45:00      015XX W MORSE AVE  ...  False    False\n",
              "2013-06-19 17:00:00 2013-06-19 17:00:00     062XX N TALMAN AVE  ...  False    False\n",
              "2013-06-19 15:24:00 2013-06-19 15:24:00  011XX W GRANVILLE AVE  ...  False    False\n",
              "\n",
              "[5 rows x 7 columns]"
            ]
          },
          "metadata": {
            "tags": []
          },
          "execution_count": 25
        }
      ]
    },
    {
      "cell_type": "code",
      "metadata": {
        "colab": {
          "base_uri": "https://localhost:8080/"
        },
        "id": "fGQUKuT5GD45",
        "outputId": "354689fd-6155-425d-8610-41a311077c50"
      },
      "source": [
        "df['Primary Type'].value_counts()"
      ],
      "execution_count": 26,
      "outputs": [
        {
          "output_type": "execute_result",
          "data": {
            "text/plain": [
              "THEFT                                390098\n",
              "BATTERY                              345016\n",
              "CRIMINAL DAMAGE                      219727\n",
              "NARCOTICS                            210678\n",
              "ASSAULT                              115485\n",
              "OTHER OFFENSE                        114405\n",
              "BURGLARY                             109890\n",
              "MOTOR VEHICLE THEFT                   89987\n",
              "ROBBERY                               71492\n",
              "DECEPTIVE PRACTICE                    66192\n",
              "CRIMINAL TRESPASS                     53616\n",
              "PROSTITUTION                          20712\n",
              "WEAPONS VIOLATION                     18430\n",
              "PUBLIC PEACE VIOLATION                14222\n",
              "OFFENSE INVOLVING CHILDREN            11867\n",
              "CRIM SEXUAL ASSAULT                    7084\n",
              "SEX OFFENSE                            6851\n",
              "LIQUOR LAW VIOLATION                   4477\n",
              "GAMBLING                               4390\n",
              "INTERFERENCE WITH PUBLIC OFFICER       3984\n",
              "ARSON                                  3131\n",
              "KIDNAPPING                             1920\n",
              "HOMICIDE                               1600\n",
              "INTIMIDATION                           1060\n",
              "STALKING                                881\n",
              "OBSCENITY                                98\n",
              "PUBLIC INDECENCY                         42\n",
              "OTHER NARCOTIC VIOLATION                 31\n",
              "NON-CRIMINAL                             14\n",
              "RITUALISM                                13\n",
              "HUMAN TRAFFICKING                         4\n",
              "CONCEALED CARRY LICENSE VIOLATION         4\n",
              "NON-CRIMINAL (SUBJECT SPECIFIED)          2\n",
              "NON - CRIMINAL                            2\n",
              "DOMESTIC VIOLENCE                         1\n",
              "Name: Primary Type, dtype: int64"
            ]
          },
          "metadata": {
            "tags": []
          },
          "execution_count": 26
        }
      ]
    },
    {
      "cell_type": "code",
      "metadata": {
        "colab": {
          "base_uri": "https://localhost:8080/"
        },
        "id": "sPt5aKwQGD45",
        "outputId": "1466739e-0d30-492e-acd3-a8e77820b45f"
      },
      "source": [
        "df['Description'].value_counts()"
      ],
      "execution_count": 27,
      "outputs": [
        {
          "output_type": "execute_result",
          "data": {
            "text/plain": [
              "SIMPLE                         239756\n",
              "$500 AND UNDER                 155267\n",
              "DOMESTIC BATTERY SIMPLE        127470\n",
              "TO VEHICLE                     106032\n",
              "TO PROPERTY                    101023\n",
              "                                ...  \n",
              "REGISTER FED GAMBLING STAMP         1\n",
              "BOLITA OR BOLI PUL/RUNNER           1\n",
              "ADULTRY                             1\n",
              "DOMESTIC VIOLENCE                   1\n",
              "LOTTERY/OTHER                       1\n",
              "Name: Description, Length: 363, dtype: int64"
            ]
          },
          "metadata": {
            "tags": []
          },
          "execution_count": 27
        }
      ]
    },
    {
      "cell_type": "markdown",
      "metadata": {
        "id": "q06YtexDGD45"
      },
      "source": [
        "## finding the top 10 crimes that was comitted"
      ]
    },
    {
      "cell_type": "code",
      "metadata": {
        "colab": {
          "base_uri": "https://localhost:8080/"
        },
        "id": "OpNxl0hXGD45",
        "outputId": "fafb36eb-bb9d-4285-ea5c-b527b8899405"
      },
      "source": [
        "df['Primary Type'].value_counts().iloc[:10]"
      ],
      "execution_count": 28,
      "outputs": [
        {
          "output_type": "execute_result",
          "data": {
            "text/plain": [
              "THEFT                  390098\n",
              "BATTERY                345016\n",
              "CRIMINAL DAMAGE        219727\n",
              "NARCOTICS              210678\n",
              "ASSAULT                115485\n",
              "OTHER OFFENSE          114405\n",
              "BURGLARY               109890\n",
              "MOTOR VEHICLE THEFT     89987\n",
              "ROBBERY                 71492\n",
              "DECEPTIVE PRACTICE      66192\n",
              "Name: Primary Type, dtype: int64"
            ]
          },
          "metadata": {
            "tags": []
          },
          "execution_count": 28
        }
      ]
    },
    {
      "cell_type": "code",
      "metadata": {
        "id": "OddmYGHNGD45"
      },
      "source": [
        "order_num =df['Primary Type'].value_counts().iloc[:10].index"
      ],
      "execution_count": 29,
      "outputs": []
    },
    {
      "cell_type": "code",
      "metadata": {
        "colab": {
          "base_uri": "https://localhost:8080/",
          "height": 297
        },
        "id": "Jzsc6Q8HGD45",
        "outputId": "d20c6559-6a52-4d50-e311-3c00d0b6d2c7"
      },
      "source": [
        "sns.countplot(y='Primary Type', data=df, order=order_num)"
      ],
      "execution_count": 30,
      "outputs": [
        {
          "output_type": "execute_result",
          "data": {
            "text/plain": [
              "<matplotlib.axes._subplots.AxesSubplot at 0x7fcb8229a588>"
            ]
          },
          "metadata": {
            "tags": []
          },
          "execution_count": 30
        },
        {
          "output_type": "display_data",
          "data": {
            "image/png": "[encoded data removed]",
            "text/plain": [
              "<Figure size 432x288 with 1 Axes>"
            ]
          },
          "metadata": {
            "tags": [],
            "needs_background": "light"
          }
        }
      ]
    },
    {
      "cell_type": "markdown",
      "metadata": {
        "id": "7XWd_664GD47"
      },
      "source": [
        "## finding how many of the crimes are street base,(location)"
      ]
    },
    {
      "cell_type": "code",
      "metadata": {
        "colab": {
          "base_uri": "https://localhost:8080/",
          "height": 405
        },
        "id": "P_s4ZCwlGD47",
        "outputId": "74152795-c7e6-47de-9496-a00ce03f0880"
      },
      "source": [
        "order_num2 =df['Location Description'].value_counts().iloc[:10].index\n",
        "plt.figure(figsize=(10,6))\n",
        "sns.countplot(y='Location Description', data=df, order =order_num2)"
      ],
      "execution_count": 31,
      "outputs": [
        {
          "output_type": "execute_result",
          "data": {
            "text/plain": [
              "<matplotlib.axes._subplots.AxesSubplot at 0x7fcb82291748>"
            ]
          },
          "metadata": {
            "tags": []
          },
          "execution_count": 31
        },
        {
          "output_type": "display_data",
          "data": {
            "image/png": "[encoded data removed]",
            "text/plain": [
              "<Figure size 720x432 with 1 Axes>"
            ]
          },
          "metadata": {
            "tags": [],
            "needs_background": "light"
          }
        }
      ]
    },
    {
      "cell_type": "markdown",
      "metadata": {
        "id": "H2ZhwTFGGD47"
      },
      "source": [
        "## finding the number of specific crime that occured in a specific month"
      ]
    },
    {
      "cell_type": "code",
      "metadata": {
        "colab": {
          "base_uri": "https://localhost:8080/"
        },
        "id": "CA6wiKT7GD47",
        "outputId": "2218109f-72bc-4c8e-a2b3-8cc61a80b92e"
      },
      "source": [
        "df.resample('Y').size()"
      ],
      "execution_count": 32,
      "outputs": [
        {
          "output_type": "execute_result",
          "data": {
            "text/plain": [
              "Date\n",
              "2001-12-31    400118\n",
              "2002-12-31      4648\n",
              "2003-12-31       979\n",
              "2004-12-31      1207\n",
              "2005-12-31      1951\n",
              "2006-12-31    338523\n",
              "2007-12-31     43409\n",
              "2008-12-31    425748\n",
              "2009-12-31    120194\n",
              "2010-12-31      1493\n",
              "2011-12-31       535\n",
              "2012-12-31    333989\n",
              "2013-12-31    139967\n",
              "2014-12-31      4151\n",
              "2015-12-31     47454\n",
              "2016-12-31     23040\n",
              "dtype: int64"
            ]
          },
          "metadata": {
            "tags": []
          },
          "execution_count": 32
        }
      ]
    },
    {
      "cell_type": "code",
      "metadata": {
        "colab": {
          "base_uri": "https://localhost:8080/",
          "height": 313
        },
        "id": "bA1CCdTrGD47",
        "outputId": "6ce6ac08-192a-438f-978f-56caa36261bd"
      },
      "source": [
        "plt.plot(df.resample('Y').size())\n",
        "plt.title('Crimes per Year')\n",
        "plt.xlabel('Year')\n",
        "plt.ylabel('Number of Crimes in a year')"
      ],
      "execution_count": 33,
      "outputs": [
        {
          "output_type": "execute_result",
          "data": {
            "text/plain": [
              "Text(0, 0.5, 'Number of Crimes in a year')"
            ]
          },
          "metadata": {
            "tags": []
          },
          "execution_count": 33
        },
        {
          "output_type": "display_data",
          "data": {
            "image/png": "[encoded data removed]",
            "text/plain": [
              "<Figure size 432x288 with 1 Axes>"
            ]
          },
          "metadata": {
            "tags": [],
            "needs_background": "light"
          }
        }
      ]
    },
    {
      "cell_type": "code",
      "metadata": {
        "colab": {
          "base_uri": "https://localhost:8080/"
        },
        "id": "YbNB--W0GD47",
        "outputId": "bc2e1fce-c6b5-4902-f92e-9e30331b2b8b"
      },
      "source": [
        "df.resample('M').size()"
      ],
      "execution_count": 34,
      "outputs": [
        {
          "output_type": "execute_result",
          "data": {
            "text/plain": [
              "Date\n",
              "2001-01-31    37528\n",
              "2001-02-28    33560\n",
              "2001-03-31    40295\n",
              "2001-04-30    39769\n",
              "2001-05-31    41490\n",
              "              ...  \n",
              "2016-01-31      809\n",
              "2016-02-29      123\n",
              "2016-03-31      213\n",
              "2016-04-30     1663\n",
              "2016-05-31    20232\n",
              "Length: 185, dtype: int64"
            ]
          },
          "metadata": {
            "tags": []
          },
          "execution_count": 34
        }
      ]
    },
    {
      "cell_type": "code",
      "metadata": {
        "colab": {
          "base_uri": "https://localhost:8080/",
          "height": 313
        },
        "id": "YeQWpYy7GD48",
        "outputId": "17e0cf5b-bbbc-4c4d-a649-d0b71a8cf486"
      },
      "source": [
        "plt.plot(df.resample('M').size())\n",
        "plt.title('Crimes per Month')\n",
        "plt.xlabel('months')\n",
        "plt.ylabel('Number of Crimes in a month')"
      ],
      "execution_count": 35,
      "outputs": [
        {
          "output_type": "execute_result",
          "data": {
            "text/plain": [
              "Text(0, 0.5, 'Number of Crimes in a month')"
            ]
          },
          "metadata": {
            "tags": []
          },
          "execution_count": 35
        },
        {
          "output_type": "display_data",
          "data": {
            "image/png": "[encoded data removed]",
            "text/plain": [
              "<Figure size 432x288 with 1 Axes>"
            ]
          },
          "metadata": {
            "tags": [],
            "needs_background": "light"
          }
        }
      ]
    },
    {
      "cell_type": "code",
      "metadata": {
        "colab": {
          "base_uri": "https://localhost:8080/",
          "height": 313
        },
        "id": "WRL93r0IGD48",
        "outputId": "fa6e7a43-bf17-44c0-b57e-fa0d7c1f12df"
      },
      "source": [
        "plt.plot(df.resample('d').size())\n",
        "plt.title('Crimes per Day')\n",
        "plt.xlabel('day')\n",
        "plt.ylabel('Number of Crimes in a day')"
      ],
      "execution_count": 36,
      "outputs": [
        {
          "output_type": "execute_result",
          "data": {
            "text/plain": [
              "Text(0, 0.5, 'Number of Crimes in a day')"
            ]
          },
          "metadata": {
            "tags": []
          },
          "execution_count": 36
        },
        {
          "output_type": "display_data",
          "data": {
            "image/png": "[encoded data removed]",
            "text/plain": [
              "<Figure size 432x288 with 1 Axes>"
            ]
          },
          "metadata": {
            "tags": [],
            "needs_background": "light"
          }
        }
      ]
    },
    {
      "cell_type": "code",
      "metadata": {
        "colab": {
          "base_uri": "https://localhost:8080/",
          "height": 313
        },
        "id": "N3pYSF9mGD48",
        "outputId": "68ae0ab0-0a27-44bf-832b-27d51d3d1d9d"
      },
      "source": [
        "plt.plot(df.resample('Q').size())\n",
        "plt.title('Crimes per Quaterly')\n",
        "plt.xlabel('Quater')\n",
        "plt.ylabel('Number of Crimes in a Quater')"
      ],
      "execution_count": 37,
      "outputs": [
        {
          "output_type": "execute_result",
          "data": {
            "text/plain": [
              "Text(0, 0.5, 'Number of Crimes in a Quater')"
            ]
          },
          "metadata": {
            "tags": []
          },
          "execution_count": 37
        },
        {
          "output_type": "display_data",
          "data": {
            "image/png": "[encoded data removed]",
            "text/plain": [
              "<Figure size 432x288 with 1 Axes>"
            ]
          },
          "metadata": {
            "tags": [],
            "needs_background": "light"
          }
        }
      ]
    },
    {
      "cell_type": "code",
      "metadata": {
        "id": "Fx4oE_czGD48"
      },
      "source": [
        "df_1 =df.resample('M').size().reset_index()"
      ],
      "execution_count": 38,
      "outputs": []
    },
    {
      "cell_type": "code",
      "metadata": {
        "colab": {
          "base_uri": "https://localhost:8080/",
          "height": 415
        },
        "id": "TMgIdZz5GD48",
        "outputId": "daca24f0-e5fd-4eb4-9528-1d351c17a662"
      },
      "source": [
        "df_1"
      ],
      "execution_count": 39,
      "outputs": [
        {
          "output_type": "execute_result",
          "data": {
            "text/html": [
              "<div>\n",
              "<style scoped>\n",
              "    .dataframe tbody tr th:only-of-type {\n",
              "        vertical-align: middle;\n",
              "    }\n",
              "\n",
              "    .dataframe tbody tr th {\n",
              "        vertical-align: top;\n",
              "    }\n",
              "\n",
              "    .dataframe thead th {\n",
              "        text-align: right;\n",
              "    }\n",
              "</style>\n",
              "<table border=\"1\" class=\"dataframe\">\n",
              "  <thead>\n",
              "    <tr style=\"text-align: right;\">\n",
              "      <th></th>\n",
              "      <th>Date</th>\n",
              "      <th>0</th>\n",
              "    </tr>\n",
              "  </thead>\n",
              "  <tbody>\n",
              "    <tr>\n",
              "      <th>0</th>\n",
              "      <td>2001-01-31</td>\n",
              "      <td>37528</td>\n",
              "    </tr>\n",
              "    <tr>\n",
              "      <th>1</th>\n",
              "      <td>2001-02-28</td>\n",
              "      <td>33560</td>\n",
              "    </tr>\n",
              "    <tr>\n",
              "      <th>2</th>\n",
              "      <td>2001-03-31</td>\n",
              "      <td>40295</td>\n",
              "    </tr>\n",
              "    <tr>\n",
              "      <th>3</th>\n",
              "      <td>2001-04-30</td>\n",
              "      <td>39769</td>\n",
              "    </tr>\n",
              "    <tr>\n",
              "      <th>4</th>\n",
              "      <td>2001-05-31</td>\n",
              "      <td>41490</td>\n",
              "    </tr>\n",
              "    <tr>\n",
              "      <th>...</th>\n",
              "      <td>...</td>\n",
              "      <td>...</td>\n",
              "    </tr>\n",
              "    <tr>\n",
              "      <th>180</th>\n",
              "      <td>2016-01-31</td>\n",
              "      <td>809</td>\n",
              "    </tr>\n",
              "    <tr>\n",
              "      <th>181</th>\n",
              "      <td>2016-02-29</td>\n",
              "      <td>123</td>\n",
              "    </tr>\n",
              "    <tr>\n",
              "      <th>182</th>\n",
              "      <td>2016-03-31</td>\n",
              "      <td>213</td>\n",
              "    </tr>\n",
              "    <tr>\n",
              "      <th>183</th>\n",
              "      <td>2016-04-30</td>\n",
              "      <td>1663</td>\n",
              "    </tr>\n",
              "    <tr>\n",
              "      <th>184</th>\n",
              "      <td>2016-05-31</td>\n",
              "      <td>20232</td>\n",
              "    </tr>\n",
              "  </tbody>\n",
              "</table>\n",
              "<p>185 rows × 2 columns</p>\n",
              "</div>"
            ],
            "text/plain": [
              "          Date      0\n",
              "0   2001-01-31  37528\n",
              "1   2001-02-28  33560\n",
              "2   2001-03-31  40295\n",
              "3   2001-04-30  39769\n",
              "4   2001-05-31  41490\n",
              "..         ...    ...\n",
              "180 2016-01-31    809\n",
              "181 2016-02-29    123\n",
              "182 2016-03-31    213\n",
              "183 2016-04-30   1663\n",
              "184 2016-05-31  20232\n",
              "\n",
              "[185 rows x 2 columns]"
            ]
          },
          "metadata": {
            "tags": []
          },
          "execution_count": 39
        }
      ]
    },
    {
      "cell_type": "code",
      "metadata": {
        "id": "OACaD5OKGD48"
      },
      "source": [
        "df_1.columns =['Date','Total Crimes']"
      ],
      "execution_count": 40,
      "outputs": []
    },
    {
      "cell_type": "code",
      "metadata": {
        "colab": {
          "base_uri": "https://localhost:8080/",
          "height": 415
        },
        "id": "vfDCotDTGD48",
        "outputId": "8c5f2f23-7cec-4ec2-db55-a2ea839011ff"
      },
      "source": [
        "df_1"
      ],
      "execution_count": 41,
      "outputs": [
        {
          "output_type": "execute_result",
          "data": {
            "text/html": [
              "<div>\n",
              "<style scoped>\n",
              "    .dataframe tbody tr th:only-of-type {\n",
              "        vertical-align: middle;\n",
              "    }\n",
              "\n",
              "    .dataframe tbody tr th {\n",
              "        vertical-align: top;\n",
              "    }\n",
              "\n",
              "    .dataframe thead th {\n",
              "        text-align: right;\n",
              "    }\n",
              "</style>\n",
              "<table border=\"1\" class=\"dataframe\">\n",
              "  <thead>\n",
              "    <tr style=\"text-align: right;\">\n",
              "      <th></th>\n",
              "      <th>Date</th>\n",
              "      <th>Total Crimes</th>\n",
              "    </tr>\n",
              "  </thead>\n",
              "  <tbody>\n",
              "    <tr>\n",
              "      <th>0</th>\n",
              "      <td>2001-01-31</td>\n",
              "      <td>37528</td>\n",
              "    </tr>\n",
              "    <tr>\n",
              "      <th>1</th>\n",
              "      <td>2001-02-28</td>\n",
              "      <td>33560</td>\n",
              "    </tr>\n",
              "    <tr>\n",
              "      <th>2</th>\n",
              "      <td>2001-03-31</td>\n",
              "      <td>40295</td>\n",
              "    </tr>\n",
              "    <tr>\n",
              "      <th>3</th>\n",
              "      <td>2001-04-30</td>\n",
              "      <td>39769</td>\n",
              "    </tr>\n",
              "    <tr>\n",
              "      <th>4</th>\n",
              "      <td>2001-05-31</td>\n",
              "      <td>41490</td>\n",
              "    </tr>\n",
              "    <tr>\n",
              "      <th>...</th>\n",
              "      <td>...</td>\n",
              "      <td>...</td>\n",
              "    </tr>\n",
              "    <tr>\n",
              "      <th>180</th>\n",
              "      <td>2016-01-31</td>\n",
              "      <td>809</td>\n",
              "    </tr>\n",
              "    <tr>\n",
              "      <th>181</th>\n",
              "      <td>2016-02-29</td>\n",
              "      <td>123</td>\n",
              "    </tr>\n",
              "    <tr>\n",
              "      <th>182</th>\n",
              "      <td>2016-03-31</td>\n",
              "      <td>213</td>\n",
              "    </tr>\n",
              "    <tr>\n",
              "      <th>183</th>\n",
              "      <td>2016-04-30</td>\n",
              "      <td>1663</td>\n",
              "    </tr>\n",
              "    <tr>\n",
              "      <th>184</th>\n",
              "      <td>2016-05-31</td>\n",
              "      <td>20232</td>\n",
              "    </tr>\n",
              "  </tbody>\n",
              "</table>\n",
              "<p>185 rows × 2 columns</p>\n",
              "</div>"
            ],
            "text/plain": [
              "          Date  Total Crimes\n",
              "0   2001-01-31         37528\n",
              "1   2001-02-28         33560\n",
              "2   2001-03-31         40295\n",
              "3   2001-04-30         39769\n",
              "4   2001-05-31         41490\n",
              "..         ...           ...\n",
              "180 2016-01-31           809\n",
              "181 2016-02-29           123\n",
              "182 2016-03-31           213\n",
              "183 2016-04-30          1663\n",
              "184 2016-05-31         20232\n",
              "\n",
              "[185 rows x 2 columns]"
            ]
          },
          "metadata": {
            "tags": []
          },
          "execution_count": 41
        }
      ]
    },
    {
      "cell_type": "code",
      "metadata": {
        "id": "mA3UYBCsGD48"
      },
      "source": [
        "df_2 =df_1.rename(columns ={'Date':'ds','Total Crimes':'y' })"
      ],
      "execution_count": 42,
      "outputs": []
    },
    {
      "cell_type": "code",
      "metadata": {
        "colab": {
          "base_uri": "https://localhost:8080/"
        },
        "id": "KIEWfcQ6GD48",
        "outputId": "5e37aad7-7046-4c7d-db0f-973067db4dd2"
      },
      "source": [
        "df_2['ds']"
      ],
      "execution_count": 43,
      "outputs": [
        {
          "output_type": "execute_result",
          "data": {
            "text/plain": [
              "0     2001-01-31\n",
              "1     2001-02-28\n",
              "2     2001-03-31\n",
              "3     2001-04-30\n",
              "4     2001-05-31\n",
              "         ...    \n",
              "180   2016-01-31\n",
              "181   2016-02-29\n",
              "182   2016-03-31\n",
              "183   2016-04-30\n",
              "184   2016-05-31\n",
              "Name: ds, Length: 185, dtype: datetime64[ns]"
            ]
          },
          "metadata": {
            "tags": []
          },
          "execution_count": 43
        }
      ]
    },
    {
      "cell_type": "code",
      "metadata": {
        "colab": {
          "base_uri": "https://localhost:8080/"
        },
        "id": "OJX36EIPGD48",
        "outputId": "172b1eeb-de87-411e-f4c9-cf267cb0ead2"
      },
      "source": [
        "df_2['y']"
      ],
      "execution_count": 44,
      "outputs": [
        {
          "output_type": "execute_result",
          "data": {
            "text/plain": [
              "0      37528\n",
              "1      33560\n",
              "2      40295\n",
              "3      39769\n",
              "4      41490\n",
              "       ...  \n",
              "180      809\n",
              "181      123\n",
              "182      213\n",
              "183     1663\n",
              "184    20232\n",
              "Name: y, Length: 185, dtype: int64"
            ]
          },
          "metadata": {
            "tags": []
          },
          "execution_count": 44
        }
      ]
    },
    {
      "cell_type": "code",
      "metadata": {
        "colab": {
          "base_uri": "https://localhost:8080/",
          "height": 202
        },
        "id": "g-LILhgEGD48",
        "outputId": "4becd12d-ba8f-44d8-be21-e1f5fa73e132"
      },
      "source": [
        "df_2.head()"
      ],
      "execution_count": 45,
      "outputs": [
        {
          "output_type": "execute_result",
          "data": {
            "text/html": [
              "<div>\n",
              "<style scoped>\n",
              "    .dataframe tbody tr th:only-of-type {\n",
              "        vertical-align: middle;\n",
              "    }\n",
              "\n",
              "    .dataframe tbody tr th {\n",
              "        vertical-align: top;\n",
              "    }\n",
              "\n",
              "    .dataframe thead th {\n",
              "        text-align: right;\n",
              "    }\n",
              "</style>\n",
              "<table border=\"1\" class=\"dataframe\">\n",
              "  <thead>\n",
              "    <tr style=\"text-align: right;\">\n",
              "      <th></th>\n",
              "      <th>ds</th>\n",
              "      <th>y</th>\n",
              "    </tr>\n",
              "  </thead>\n",
              "  <tbody>\n",
              "    <tr>\n",
              "      <th>0</th>\n",
              "      <td>2001-01-31</td>\n",
              "      <td>37528</td>\n",
              "    </tr>\n",
              "    <tr>\n",
              "      <th>1</th>\n",
              "      <td>2001-02-28</td>\n",
              "      <td>33560</td>\n",
              "    </tr>\n",
              "    <tr>\n",
              "      <th>2</th>\n",
              "      <td>2001-03-31</td>\n",
              "      <td>40295</td>\n",
              "    </tr>\n",
              "    <tr>\n",
              "      <th>3</th>\n",
              "      <td>2001-04-30</td>\n",
              "      <td>39769</td>\n",
              "    </tr>\n",
              "    <tr>\n",
              "      <th>4</th>\n",
              "      <td>2001-05-31</td>\n",
              "      <td>41490</td>\n",
              "    </tr>\n",
              "  </tbody>\n",
              "</table>\n",
              "</div>"
            ],
            "text/plain": [
              "          ds      y\n",
              "0 2001-01-31  37528\n",
              "1 2001-02-28  33560\n",
              "2 2001-03-31  40295\n",
              "3 2001-04-30  39769\n",
              "4 2001-05-31  41490"
            ]
          },
          "metadata": {
            "tags": []
          },
          "execution_count": 45
        }
      ]
    },
    {
      "cell_type": "code",
      "metadata": {
        "id": "6zFRdm15GD48"
      },
      "source": [
        " m = Prophet()"
      ],
      "execution_count": 46,
      "outputs": []
    },
    {
      "cell_type": "code",
      "metadata": {
        "colab": {
          "base_uri": "https://localhost:8080/"
        },
        "id": "DlIuJx8BGD48",
        "outputId": "cf20281c-dfe5-427c-f79c-ab7962248e3f"
      },
      "source": [
        "m.fit(df_2)"
      ],
      "execution_count": 47,
      "outputs": [
        {
          "output_type": "stream",
          "text": [
            "INFO:numexpr.utils:NumExpr defaulting to 2 threads.\n",
            "INFO:fbprophet:Disabling weekly seasonality. Run prophet with weekly_seasonality=True to override this.\n",
            "INFO:fbprophet:Disabling daily seasonality. Run prophet with daily_seasonality=True to override this.\n"
          ],
          "name": "stderr"
        },
        {
          "output_type": "execute_result",
          "data": {
            "text/plain": [
              "<fbprophet.forecaster.Prophet at 0x7fcb81ffa630>"
            ]
          },
          "metadata": {
            "tags": []
          },
          "execution_count": 47
        }
      ]
    },
    {
      "cell_type": "code",
      "metadata": {
        "id": "KpugpXwWGD49"
      },
      "source": [
        "future =m.make_future_dataframe(periods =356)"
      ],
      "execution_count": 48,
      "outputs": []
    },
    {
      "cell_type": "code",
      "metadata": {
        "id": "vtd39LiXGD49"
      },
      "source": [
        "forcast =m.predict(future)"
      ],
      "execution_count": 49,
      "outputs": []
    },
    {
      "cell_type": "code",
      "metadata": {
        "colab": {
          "base_uri": "https://localhost:8080/",
          "height": 609
        },
        "id": "haW9tmlwGD49",
        "outputId": "a77fca75-c3a1-4483-9cd3-f0a772554333"
      },
      "source": [
        "forcast"
      ],
      "execution_count": 50,
      "outputs": [
        {
          "output_type": "execute_result",
          "data": {
            "text/html": [
              "<div>\n",
              "<style scoped>\n",
              "    .dataframe tbody tr th:only-of-type {\n",
              "        vertical-align: middle;\n",
              "    }\n",
              "\n",
              "    .dataframe tbody tr th {\n",
              "        vertical-align: top;\n",
              "    }\n",
              "\n",
              "    .dataframe thead th {\n",
              "        text-align: right;\n",
              "    }\n",
              "</style>\n",
              "<table border=\"1\" class=\"dataframe\">\n",
              "  <thead>\n",
              "    <tr style=\"text-align: right;\">\n",
              "      <th></th>\n",
              "      <th>ds</th>\n",
              "      <th>trend</th>\n",
              "      <th>yhat_lower</th>\n",
              "      <th>yhat_upper</th>\n",
              "      <th>trend_lower</th>\n",
              "      <th>trend_upper</th>\n",
              "      <th>additive_terms</th>\n",
              "      <th>additive_terms_lower</th>\n",
              "      <th>additive_terms_upper</th>\n",
              "      <th>yearly</th>\n",
              "      <th>yearly_lower</th>\n",
              "      <th>yearly_upper</th>\n",
              "      <th>multiplicative_terms</th>\n",
              "      <th>multiplicative_terms_lower</th>\n",
              "      <th>multiplicative_terms_upper</th>\n",
              "      <th>yhat</th>\n",
              "    </tr>\n",
              "  </thead>\n",
              "  <tbody>\n",
              "    <tr>\n",
              "      <th>0</th>\n",
              "      <td>2001-01-31</td>\n",
              "      <td>12235.287027</td>\n",
              "      <td>-4656.742611</td>\n",
              "      <td>34342.937293</td>\n",
              "      <td>12235.287027</td>\n",
              "      <td>12235.287027</td>\n",
              "      <td>2198.560482</td>\n",
              "      <td>2198.560482</td>\n",
              "      <td>2198.560482</td>\n",
              "      <td>2198.560482</td>\n",
              "      <td>2198.560482</td>\n",
              "      <td>2198.560482</td>\n",
              "      <td>0.0</td>\n",
              "      <td>0.0</td>\n",
              "      <td>0.0</td>\n",
              "      <td>14433.847509</td>\n",
              "    </tr>\n",
              "    <tr>\n",
              "      <th>1</th>\n",
              "      <td>2001-02-28</td>\n",
              "      <td>12213.022977</td>\n",
              "      <td>-8499.450222</td>\n",
              "      <td>30071.181758</td>\n",
              "      <td>12213.022977</td>\n",
              "      <td>12213.022977</td>\n",
              "      <td>174.352800</td>\n",
              "      <td>174.352800</td>\n",
              "      <td>174.352800</td>\n",
              "      <td>174.352800</td>\n",
              "      <td>174.352800</td>\n",
              "      <td>174.352800</td>\n",
              "      <td>0.0</td>\n",
              "      <td>0.0</td>\n",
              "      <td>0.0</td>\n",
              "      <td>12387.375777</td>\n",
              "    </tr>\n",
              "    <tr>\n",
              "      <th>2</th>\n",
              "      <td>2001-03-31</td>\n",
              "      <td>12188.373494</td>\n",
              "      <td>-4946.416983</td>\n",
              "      <td>32229.077178</td>\n",
              "      <td>12188.373494</td>\n",
              "      <td>12188.373494</td>\n",
              "      <td>968.062614</td>\n",
              "      <td>968.062614</td>\n",
              "      <td>968.062614</td>\n",
              "      <td>968.062614</td>\n",
              "      <td>968.062614</td>\n",
              "      <td>968.062614</td>\n",
              "      <td>0.0</td>\n",
              "      <td>0.0</td>\n",
              "      <td>0.0</td>\n",
              "      <td>13156.436108</td>\n",
              "    </tr>\n",
              "    <tr>\n",
              "      <th>3</th>\n",
              "      <td>2001-04-30</td>\n",
              "      <td>12164.519155</td>\n",
              "      <td>-3379.571576</td>\n",
              "      <td>32430.087899</td>\n",
              "      <td>12164.519155</td>\n",
              "      <td>12164.519155</td>\n",
              "      <td>1562.200336</td>\n",
              "      <td>1562.200336</td>\n",
              "      <td>1562.200336</td>\n",
              "      <td>1562.200336</td>\n",
              "      <td>1562.200336</td>\n",
              "      <td>1562.200336</td>\n",
              "      <td>0.0</td>\n",
              "      <td>0.0</td>\n",
              "      <td>0.0</td>\n",
              "      <td>13726.719491</td>\n",
              "    </tr>\n",
              "    <tr>\n",
              "      <th>4</th>\n",
              "      <td>2001-05-31</td>\n",
              "      <td>12139.869671</td>\n",
              "      <td>-5264.008507</td>\n",
              "      <td>33443.392778</td>\n",
              "      <td>12139.869671</td>\n",
              "      <td>12139.869671</td>\n",
              "      <td>2089.668406</td>\n",
              "      <td>2089.668406</td>\n",
              "      <td>2089.668406</td>\n",
              "      <td>2089.668406</td>\n",
              "      <td>2089.668406</td>\n",
              "      <td>2089.668406</td>\n",
              "      <td>0.0</td>\n",
              "      <td>0.0</td>\n",
              "      <td>0.0</td>\n",
              "      <td>14229.538077</td>\n",
              "    </tr>\n",
              "    <tr>\n",
              "      <th>...</th>\n",
              "      <td>...</td>\n",
              "      <td>...</td>\n",
              "      <td>...</td>\n",
              "      <td>...</td>\n",
              "      <td>...</td>\n",
              "      <td>...</td>\n",
              "      <td>...</td>\n",
              "      <td>...</td>\n",
              "      <td>...</td>\n",
              "      <td>...</td>\n",
              "      <td>...</td>\n",
              "      <td>...</td>\n",
              "      <td>...</td>\n",
              "      <td>...</td>\n",
              "      <td>...</td>\n",
              "      <td>...</td>\n",
              "    </tr>\n",
              "    <tr>\n",
              "      <th>536</th>\n",
              "      <td>2017-05-18</td>\n",
              "      <td>7503.370860</td>\n",
              "      <td>-8167.542811</td>\n",
              "      <td>30213.412897</td>\n",
              "      <td>7503.370751</td>\n",
              "      <td>7503.370985</td>\n",
              "      <td>3051.193224</td>\n",
              "      <td>3051.193224</td>\n",
              "      <td>3051.193224</td>\n",
              "      <td>3051.193224</td>\n",
              "      <td>3051.193224</td>\n",
              "      <td>3051.193224</td>\n",
              "      <td>0.0</td>\n",
              "      <td>0.0</td>\n",
              "      <td>0.0</td>\n",
              "      <td>10554.564085</td>\n",
              "    </tr>\n",
              "    <tr>\n",
              "      <th>537</th>\n",
              "      <td>2017-05-19</td>\n",
              "      <td>7502.575711</td>\n",
              "      <td>-7687.476421</td>\n",
              "      <td>29178.933012</td>\n",
              "      <td>7502.575601</td>\n",
              "      <td>7502.575836</td>\n",
              "      <td>2961.544024</td>\n",
              "      <td>2961.544024</td>\n",
              "      <td>2961.544024</td>\n",
              "      <td>2961.544024</td>\n",
              "      <td>2961.544024</td>\n",
              "      <td>2961.544024</td>\n",
              "      <td>0.0</td>\n",
              "      <td>0.0</td>\n",
              "      <td>0.0</td>\n",
              "      <td>10464.119734</td>\n",
              "    </tr>\n",
              "    <tr>\n",
              "      <th>538</th>\n",
              "      <td>2017-05-20</td>\n",
              "      <td>7501.780561</td>\n",
              "      <td>-7993.763008</td>\n",
              "      <td>29513.100518</td>\n",
              "      <td>7501.780451</td>\n",
              "      <td>7501.780687</td>\n",
              "      <td>2859.719815</td>\n",
              "      <td>2859.719815</td>\n",
              "      <td>2859.719815</td>\n",
              "      <td>2859.719815</td>\n",
              "      <td>2859.719815</td>\n",
              "      <td>2859.719815</td>\n",
              "      <td>0.0</td>\n",
              "      <td>0.0</td>\n",
              "      <td>0.0</td>\n",
              "      <td>10361.500376</td>\n",
              "    </tr>\n",
              "    <tr>\n",
              "      <th>539</th>\n",
              "      <td>2017-05-21</td>\n",
              "      <td>7500.985411</td>\n",
              "      <td>-9203.332385</td>\n",
              "      <td>28824.882725</td>\n",
              "      <td>7500.985301</td>\n",
              "      <td>7500.985538</td>\n",
              "      <td>2749.876070</td>\n",
              "      <td>2749.876070</td>\n",
              "      <td>2749.876070</td>\n",
              "      <td>2749.876070</td>\n",
              "      <td>2749.876070</td>\n",
              "      <td>2749.876070</td>\n",
              "      <td>0.0</td>\n",
              "      <td>0.0</td>\n",
              "      <td>0.0</td>\n",
              "      <td>10250.861481</td>\n",
              "    </tr>\n",
              "    <tr>\n",
              "      <th>540</th>\n",
              "      <td>2017-05-22</td>\n",
              "      <td>7500.190262</td>\n",
              "      <td>-8858.845904</td>\n",
              "      <td>29790.193306</td>\n",
              "      <td>7500.190151</td>\n",
              "      <td>7500.190389</td>\n",
              "      <td>2636.385351</td>\n",
              "      <td>2636.385351</td>\n",
              "      <td>2636.385351</td>\n",
              "      <td>2636.385351</td>\n",
              "      <td>2636.385351</td>\n",
              "      <td>2636.385351</td>\n",
              "      <td>0.0</td>\n",
              "      <td>0.0</td>\n",
              "      <td>0.0</td>\n",
              "      <td>10136.575613</td>\n",
              "    </tr>\n",
              "  </tbody>\n",
              "</table>\n",
              "<p>541 rows × 16 columns</p>\n",
              "</div>"
            ],
            "text/plain": [
              "            ds         trend  ...  multiplicative_terms_upper          yhat\n",
              "0   2001-01-31  12235.287027  ...                         0.0  14433.847509\n",
              "1   2001-02-28  12213.022977  ...                         0.0  12387.375777\n",
              "2   2001-03-31  12188.373494  ...                         0.0  13156.436108\n",
              "3   2001-04-30  12164.519155  ...                         0.0  13726.719491\n",
              "4   2001-05-31  12139.869671  ...                         0.0  14229.538077\n",
              "..         ...           ...  ...                         ...           ...\n",
              "536 2017-05-18   7503.370860  ...                         0.0  10554.564085\n",
              "537 2017-05-19   7502.575711  ...                         0.0  10464.119734\n",
              "538 2017-05-20   7501.780561  ...                         0.0  10361.500376\n",
              "539 2017-05-21   7500.985411  ...                         0.0  10250.861481\n",
              "540 2017-05-22   7500.190262  ...                         0.0  10136.575613\n",
              "\n",
              "[541 rows x 16 columns]"
            ]
          },
          "metadata": {
            "tags": []
          },
          "execution_count": 50
        }
      ]
    },
    {
      "cell_type": "code",
      "metadata": {
        "colab": {
          "base_uri": "https://localhost:8080/",
          "height": 441
        },
        "id": "Ra4tmmSsGD49",
        "outputId": "b6dcdc03-e62c-4eb5-a747-d0f72ee966d7"
      },
      "source": [
        "figure=m.plot(forcast, xlabel='Date', ylabel='Crime Rate')"
      ],
      "execution_count": 51,
      "outputs": [
        {
          "output_type": "display_data",
          "data": {
            "image/png": "[encoded data removed]",
            "text/plain": [
              "<Figure size 720x432 with 1 Axes>"
            ]
          },
          "metadata": {
            "tags": []
          }
        }
      ]
    },
    {
      "cell_type": "code",
      "metadata": {
        "colab": {
          "base_uri": "https://localhost:8080/",
          "height": 459
        },
        "id": "uwNXvCvjGD49",
        "outputId": "31ebb322-b730-4ee5-cc70-b7599893b7fa"
      },
      "source": [
        "figure ==m.plot_components(forcast)"
      ],
      "execution_count": 52,
      "outputs": [
        {
          "output_type": "execute_result",
          "data": {
            "text/plain": [
              "False"
            ]
          },
          "metadata": {
            "tags": []
          },
          "execution_count": 52
        },
        {
          "output_type": "display_data",
          "data": {
            "image/png": "[encoded data removed]",
            "text/plain": [
              "<Figure size 648x432 with 2 Axes>"
            ]
          },
          "metadata": {
            "tags": []
          }
        }
      ]
    },
    {
      "cell_type": "code",
      "metadata": {
        "id": "P7bubxeeGD49"
      },
      "source": [
        ""
      ],
      "execution_count": 52,
      "outputs": []
    }
  ]
}